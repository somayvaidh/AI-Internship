{
  "nbformat": 4,
  "nbformat_minor": 0,
  "metadata": {
    "colab": {
      "provenance": []
    },
    "kernelspec": {
      "name": "python3",
      "display_name": "Python 3"
    },
    "language_info": {
      "name": "python"
    }
  },
  "cells": [
    {
      "cell_type": "code",
      "execution_count": null,
      "metadata": {
        "id": "Xk5cP9HLKJwJ"
      },
      "outputs": [],
      "source": [
        "import numpy as np\n",
        "import pandas as pd"
      ]
    },
    {
      "cell_type": "code",
      "source": [
        "np.random.seed(40)"
      ],
      "metadata": {
        "id": "Vd3NUU0FKjnj"
      },
      "execution_count": null,
      "outputs": []
    },
    {
      "cell_type": "code",
      "source": [
        "data = np.random.randn(4, 4)\n"
      ],
      "metadata": {
        "id": "LDnFjS6LKxvC"
      },
      "execution_count": null,
      "outputs": []
    },
    {
      "cell_type": "code",
      "source": [
        "df = pd.DataFrame(data, columns=['GOOD', 'BETTER', 'BEST', 'OKAY'])\n"
      ],
      "metadata": {
        "id": "LH7l9RlCK0oS"
      },
      "execution_count": null,
      "outputs": []
    },
    {
      "cell_type": "code",
      "source": [
        "print(df)"
      ],
      "metadata": {
        "colab": {
          "base_uri": "https://localhost:8080/"
        },
        "id": "vTq6UpPzLHbV",
        "outputId": "b3d53647-4968-4d34-b156-7d515ad09906"
      },
      "execution_count": null,
      "outputs": [
        {
          "output_type": "stream",
          "name": "stdout",
          "text": [
            "       GOOD    BETTER      BEST      OKAY\n",
            "0 -0.607548 -0.126136 -0.684606  0.928715\n",
            "1 -1.844401 -0.467002  2.292490  0.488810\n",
            "2  0.710267  1.055534  0.054073  0.257953\n",
            "3  0.588282  0.885244 -1.017007 -0.133693\n"
          ]
        }
      ]
    },
    {
      "cell_type": "code",
      "source": [
        "new_column_names = {\n",
        "    'GOOD': 'Random value 1',\n",
        "    'BETTER': 'Random value 2',\n",
        "    'BEST': 'Random value 3',\n",
        "    'OKAY': 'Random value 4'\n",
        "}\n",
        "df = df.rename(columns=new_column_names)"
      ],
      "metadata": {
        "id": "trL3B0k7LQOH"
      },
      "execution_count": null,
      "outputs": []
    },
    {
      "cell_type": "code",
      "source": [
        "print(df)"
      ],
      "metadata": {
        "colab": {
          "base_uri": "https://localhost:8080/"
        },
        "id": "UwbCphTYLc0c",
        "outputId": "76583bc5-ffaa-4bd8-8bde-0ae64df8dad9"
      },
      "execution_count": null,
      "outputs": [
        {
          "output_type": "stream",
          "name": "stdout",
          "text": [
            "   Random value 1  Random value 2  Random value 3  Random value 4\n",
            "0       -0.607548       -0.126136       -0.684606        0.928715\n",
            "1       -1.844401       -0.467002        2.292490        0.488810\n",
            "2        0.710267        1.055534        0.054073        0.257953\n",
            "3        0.588282        0.885244       -1.017007       -0.133693\n"
          ]
        }
      ]
    },
    {
      "cell_type": "code",
      "source": [
        "df.describe()"
      ],
      "metadata": {
        "colab": {
          "base_uri": "https://localhost:8080/",
          "height": 300
        },
        "id": "2HGW64UILuLv",
        "outputId": "965737d9-ffe4-4aae-dec4-4f8c278a4cf0"
      },
      "execution_count": null,
      "outputs": [
        {
          "output_type": "execute_result",
          "data": {
            "text/plain": [
              "       Random value 1  Random value 2  Random value 3  Random value 4\n",
              "count        4.000000        4.000000        4.000000        4.000000\n",
              "mean        -0.288350        0.336910        0.161238        0.385446\n",
              "std          1.195673        0.747837        1.489679        0.444066\n",
              "min         -1.844401       -0.467002       -1.017007       -0.133693\n",
              "25%         -0.916761       -0.211353       -0.767707        0.160042\n",
              "50%         -0.009633        0.379554       -0.315267        0.373382\n",
              "75%          0.618778        0.927817        0.613677        0.598786\n",
              "max          0.710267        1.055534        2.292490        0.928715"
            ],
            "text/html": [
              "\n",
              "  <div id=\"df-e9d515ee-60e2-4f16-a410-8372757c2e06\">\n",
              "    <div class=\"colab-df-container\">\n",
              "      <div>\n",
              "<style scoped>\n",
              "    .dataframe tbody tr th:only-of-type {\n",
              "        vertical-align: middle;\n",
              "    }\n",
              "\n",
              "    .dataframe tbody tr th {\n",
              "        vertical-align: top;\n",
              "    }\n",
              "\n",
              "    .dataframe thead th {\n",
              "        text-align: right;\n",
              "    }\n",
              "</style>\n",
              "<table border=\"1\" class=\"dataframe\">\n",
              "  <thead>\n",
              "    <tr style=\"text-align: right;\">\n",
              "      <th></th>\n",
              "      <th>Random value 1</th>\n",
              "      <th>Random value 2</th>\n",
              "      <th>Random value 3</th>\n",
              "      <th>Random value 4</th>\n",
              "    </tr>\n",
              "  </thead>\n",
              "  <tbody>\n",
              "    <tr>\n",
              "      <th>count</th>\n",
              "      <td>4.000000</td>\n",
              "      <td>4.000000</td>\n",
              "      <td>4.000000</td>\n",
              "      <td>4.000000</td>\n",
              "    </tr>\n",
              "    <tr>\n",
              "      <th>mean</th>\n",
              "      <td>-0.288350</td>\n",
              "      <td>0.336910</td>\n",
              "      <td>0.161238</td>\n",
              "      <td>0.385446</td>\n",
              "    </tr>\n",
              "    <tr>\n",
              "      <th>std</th>\n",
              "      <td>1.195673</td>\n",
              "      <td>0.747837</td>\n",
              "      <td>1.489679</td>\n",
              "      <td>0.444066</td>\n",
              "    </tr>\n",
              "    <tr>\n",
              "      <th>min</th>\n",
              "      <td>-1.844401</td>\n",
              "      <td>-0.467002</td>\n",
              "      <td>-1.017007</td>\n",
              "      <td>-0.133693</td>\n",
              "    </tr>\n",
              "    <tr>\n",
              "      <th>25%</th>\n",
              "      <td>-0.916761</td>\n",
              "      <td>-0.211353</td>\n",
              "      <td>-0.767707</td>\n",
              "      <td>0.160042</td>\n",
              "    </tr>\n",
              "    <tr>\n",
              "      <th>50%</th>\n",
              "      <td>-0.009633</td>\n",
              "      <td>0.379554</td>\n",
              "      <td>-0.315267</td>\n",
              "      <td>0.373382</td>\n",
              "    </tr>\n",
              "    <tr>\n",
              "      <th>75%</th>\n",
              "      <td>0.618778</td>\n",
              "      <td>0.927817</td>\n",
              "      <td>0.613677</td>\n",
              "      <td>0.598786</td>\n",
              "    </tr>\n",
              "    <tr>\n",
              "      <th>max</th>\n",
              "      <td>0.710267</td>\n",
              "      <td>1.055534</td>\n",
              "      <td>2.292490</td>\n",
              "      <td>0.928715</td>\n",
              "    </tr>\n",
              "  </tbody>\n",
              "</table>\n",
              "</div>\n",
              "      <button class=\"colab-df-convert\" onclick=\"convertToInteractive('df-e9d515ee-60e2-4f16-a410-8372757c2e06')\"\n",
              "              title=\"Convert this dataframe to an interactive table.\"\n",
              "              style=\"display:none;\">\n",
              "        \n",
              "  <svg xmlns=\"http://www.w3.org/2000/svg\" height=\"24px\"viewBox=\"0 0 24 24\"\n",
              "       width=\"24px\">\n",
              "    <path d=\"M0 0h24v24H0V0z\" fill=\"none\"/>\n",
              "    <path d=\"M18.56 5.44l.94 2.06.94-2.06 2.06-.94-2.06-.94-.94-2.06-.94 2.06-2.06.94zm-11 1L8.5 8.5l.94-2.06 2.06-.94-2.06-.94L8.5 2.5l-.94 2.06-2.06.94zm10 10l.94 2.06.94-2.06 2.06-.94-2.06-.94-.94-2.06-.94 2.06-2.06.94z\"/><path d=\"M17.41 7.96l-1.37-1.37c-.4-.4-.92-.59-1.43-.59-.52 0-1.04.2-1.43.59L10.3 9.45l-7.72 7.72c-.78.78-.78 2.05 0 2.83L4 21.41c.39.39.9.59 1.41.59.51 0 1.02-.2 1.41-.59l7.78-7.78 2.81-2.81c.8-.78.8-2.07 0-2.86zM5.41 20L4 18.59l7.72-7.72 1.47 1.35L5.41 20z\"/>\n",
              "  </svg>\n",
              "      </button>\n",
              "      \n",
              "  <style>\n",
              "    .colab-df-container {\n",
              "      display:flex;\n",
              "      flex-wrap:wrap;\n",
              "      gap: 12px;\n",
              "    }\n",
              "\n",
              "    .colab-df-convert {\n",
              "      background-color: #E8F0FE;\n",
              "      border: none;\n",
              "      border-radius: 50%;\n",
              "      cursor: pointer;\n",
              "      display: none;\n",
              "      fill: #1967D2;\n",
              "      height: 32px;\n",
              "      padding: 0 0 0 0;\n",
              "      width: 32px;\n",
              "    }\n",
              "\n",
              "    .colab-df-convert:hover {\n",
              "      background-color: #E2EBFA;\n",
              "      box-shadow: 0px 1px 2px rgba(60, 64, 67, 0.3), 0px 1px 3px 1px rgba(60, 64, 67, 0.15);\n",
              "      fill: #174EA6;\n",
              "    }\n",
              "\n",
              "    [theme=dark] .colab-df-convert {\n",
              "      background-color: #3B4455;\n",
              "      fill: #D2E3FC;\n",
              "    }\n",
              "\n",
              "    [theme=dark] .colab-df-convert:hover {\n",
              "      background-color: #434B5C;\n",
              "      box-shadow: 0px 1px 3px 1px rgba(0, 0, 0, 0.15);\n",
              "      filter: drop-shadow(0px 1px 2px rgba(0, 0, 0, 0.3));\n",
              "      fill: #FFFFFF;\n",
              "    }\n",
              "  </style>\n",
              "\n",
              "      <script>\n",
              "        const buttonEl =\n",
              "          document.querySelector('#df-e9d515ee-60e2-4f16-a410-8372757c2e06 button.colab-df-convert');\n",
              "        buttonEl.style.display =\n",
              "          google.colab.kernel.accessAllowed ? 'block' : 'none';\n",
              "\n",
              "        async function convertToInteractive(key) {\n",
              "          const element = document.querySelector('#df-e9d515ee-60e2-4f16-a410-8372757c2e06');\n",
              "          const dataTable =\n",
              "            await google.colab.kernel.invokeFunction('convertToInteractive',\n",
              "                                                     [key], {});\n",
              "          if (!dataTable) return;\n",
              "\n",
              "          const docLinkHtml = 'Like what you see? Visit the ' +\n",
              "            '<a target=\"_blank\" href=https://colab.research.google.com/notebooks/data_table.ipynb>data table notebook</a>'\n",
              "            + ' to learn more about interactive tables.';\n",
              "          element.innerHTML = '';\n",
              "          dataTable['output_type'] = 'display_data';\n",
              "          await google.colab.output.renderOutput(dataTable, element);\n",
              "          const docLink = document.createElement('div');\n",
              "          docLink.innerHTML = docLinkHtml;\n",
              "          element.appendChild(docLink);\n",
              "        }\n",
              "      </script>\n",
              "    </div>\n",
              "  </div>\n",
              "  "
            ]
          },
          "metadata": {},
          "execution_count": 10
        }
      ]
    },
    {
      "cell_type": "code",
      "source": [
        "df.isnull().sum()\n"
      ],
      "metadata": {
        "colab": {
          "base_uri": "https://localhost:8080/"
        },
        "id": "-usa-shNMFzW",
        "outputId": "1220e63d-8c80-4c99-bf05-f40d6e8638f9"
      },
      "execution_count": null,
      "outputs": [
        {
          "output_type": "execute_result",
          "data": {
            "text/plain": [
              "Random value 1    0\n",
              "Random value 2    0\n",
              "Random value 3    0\n",
              "Random value 4    0\n",
              "dtype: int64"
            ]
          },
          "metadata": {},
          "execution_count": 11
        }
      ]
    },
    {
      "cell_type": "code",
      "source": [
        "df.info()\n"
      ],
      "metadata": {
        "colab": {
          "base_uri": "https://localhost:8080/"
        },
        "id": "L3jNbtE2MfPU",
        "outputId": "53d5191e-33f0-47a4-c406-1cf96f836846"
      },
      "execution_count": null,
      "outputs": [
        {
          "output_type": "stream",
          "name": "stdout",
          "text": [
            "<class 'pandas.core.frame.DataFrame'>\n",
            "RangeIndex: 4 entries, 0 to 3\n",
            "Data columns (total 4 columns):\n",
            " #   Column          Non-Null Count  Dtype  \n",
            "---  ------          --------------  -----  \n",
            " 0   Random value 1  4 non-null      float64\n",
            " 1   Random value 2  4 non-null      float64\n",
            " 2   Random value 3  4 non-null      float64\n",
            " 3   Random value 4  4 non-null      float64\n",
            "dtypes: float64(4)\n",
            "memory usage: 256.0 bytes\n"
          ]
        }
      ]
    },
    {
      "cell_type": "code",
      "source": [
        "df.dtypes"
      ],
      "metadata": {
        "colab": {
          "base_uri": "https://localhost:8080/"
        },
        "id": "-fz_EyPjMkiP",
        "outputId": "e9703f02-0dff-4928-fd93-94ed1b40d088"
      },
      "execution_count": null,
      "outputs": [
        {
          "output_type": "execute_result",
          "data": {
            "text/plain": [
              "Random value 1    float64\n",
              "Random value 2    float64\n",
              "Random value 3    float64\n",
              "Random value 4    float64\n",
              "dtype: object"
            ]
          },
          "metadata": {},
          "execution_count": 14
        }
      ]
    },
    {
      "cell_type": "code",
      "source": [
        "columns_location = df.loc[:, ['Random value 2', 'Random value 3']]\n",
        "print(\"Using Location Method:\")\n",
        "print(columns_location)"
      ],
      "metadata": {
        "colab": {
          "base_uri": "https://localhost:8080/"
        },
        "id": "cbHv0m0fMm--",
        "outputId": "3773df22-1c22-4ebd-a3e8-e6bdb094a533"
      },
      "execution_count": null,
      "outputs": [
        {
          "output_type": "stream",
          "name": "stdout",
          "text": [
            "Using Location Method:\n",
            "   Random value 2  Random value 3\n",
            "0       -0.126136       -0.684606\n",
            "1       -0.467002        2.292490\n",
            "2        1.055534        0.054073\n",
            "3        0.885244       -1.017007\n"
          ]
        }
      ]
    },
    {
      "cell_type": "code",
      "source": [
        "columns_index_location = df.iloc[:, [1, 2]]\n",
        "print(\"\\nUsing Index Location Method:\")\n",
        "print(columns_index_location)"
      ],
      "metadata": {
        "colab": {
          "base_uri": "https://localhost:8080/"
        },
        "id": "hvA8gtG9M1hu",
        "outputId": "7fb0c6c1-1876-439d-c322-92b3bd1b3053"
      },
      "execution_count": null,
      "outputs": [
        {
          "output_type": "stream",
          "name": "stdout",
          "text": [
            "\n",
            "Using Index Location Method:\n",
            "   Random value 2  Random value 3\n",
            "0       -0.126136       -0.684606\n",
            "1       -0.467002        2.292490\n",
            "2        1.055534        0.054073\n",
            "3        0.885244       -1.017007\n"
          ]
        }
      ]
    },
    {
      "cell_type": "code",
      "source": [],
      "metadata": {
        "id": "3q2mxnl6M4_h"
      },
      "execution_count": null,
      "outputs": []
    }
  ]
}